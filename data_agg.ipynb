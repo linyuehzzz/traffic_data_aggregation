{
  "nbformat": 4,
  "nbformat_minor": 0,
  "metadata": {
    "colab": {
      "name": "data_agg.ipynb",
      "provenance": [],
      "collapsed_sections": [],
      "authorship_tag": "ABX9TyMGMbTC+mep8wBmaMyCcGSQ",
      "include_colab_link": true
    },
    "kernelspec": {
      "name": "python3",
      "display_name": "Python 3"
    }
  },
  "cells": [
    {
      "cell_type": "markdown",
      "metadata": {
        "id": "view-in-github",
        "colab_type": "text"
      },
      "source": [
        "<a href=\"https://colab.research.google.com/github/linyuehzzz/traffic_data_aggregation/blob/master/data_agg.ipynb\" target=\"_parent\"><img src=\"https://colab.research.google.com/assets/colab-badge.svg\" alt=\"Open In Colab\"/></a>"
      ]
    },
    {
      "cell_type": "markdown",
      "metadata": {
        "id": "nJhmttA_QK4x",
        "colab_type": "text"
      },
      "source": [
        "**Mount on Google Drive**"
      ]
    },
    {
      "cell_type": "code",
      "metadata": {
        "id": "L3JjHQBfPbKs",
        "colab_type": "code",
        "colab": {
          "base_uri": "https://localhost:8080/",
          "height": 124
        },
        "outputId": "2e7b6715-2d85-4091-f095-c53576a86334"
      },
      "source": [
        "from google.colab import drive\n",
        "drive.mount('/content/gdrive')"
      ],
      "execution_count": 1,
      "outputs": [
        {
          "output_type": "stream",
          "text": [
            "Go to this URL in a browser: https://accounts.google.com/o/oauth2/auth?client_id=947318989803-6bn6qk8qdgf4n4g3pfee6491hc0brc4i.apps.googleusercontent.com&redirect_uri=urn%3aietf%3awg%3aoauth%3a2.0%3aoob&response_type=code&scope=email%20https%3a%2f%2fwww.googleapis.com%2fauth%2fdocs.test%20https%3a%2f%2fwww.googleapis.com%2fauth%2fdrive%20https%3a%2f%2fwww.googleapis.com%2fauth%2fdrive.photos.readonly%20https%3a%2f%2fwww.googleapis.com%2fauth%2fpeopleapi.readonly\n",
            "\n",
            "Enter your authorization code:\n",
            "··········\n",
            "Mounted at /content/gdrive\n"
          ],
          "name": "stdout"
        }
      ]
    },
    {
      "cell_type": "markdown",
      "metadata": {
        "id": "Ii3yxWPxWh3q",
        "colab_type": "text"
      },
      "source": [
        "**Add file path**"
      ]
    },
    {
      "cell_type": "code",
      "metadata": {
        "id": "nqmv_eAlWbGl",
        "colab_type": "code",
        "colab": {
          "base_uri": "https://localhost:8080/",
          "height": 35
        },
        "outputId": "3292f157-50c4-45f3-c5f0-56db41e09ff6"
      },
      "source": [
        "import os\n",
        "os.chdir(\"/content/gdrive/My Drive/Colab Notebooks/traffic_data_aggregation\")\n",
        "!ls"
      ],
      "execution_count": 6,
      "outputs": [
        {
          "output_type": "stream",
          "text": [
            "data  data_agg.ipynb\n"
          ],
          "name": "stdout"
        }
      ]
    },
    {
      "cell_type": "markdown",
      "metadata": {
        "id": "IK9Bva3VU4sY",
        "colab_type": "text"
      },
      "source": [
        "**Prepare TomTom data**"
      ]
    },
    {
      "cell_type": "code",
      "metadata": {
        "id": "TfWYVUpfVBaI",
        "colab_type": "code",
        "colab": {
          "base_uri": "https://localhost:8080/",
          "height": 151
        },
        "outputId": "104d99ad-ad7f-4fa7-9780-6265c2a561a0"
      },
      "source": [
        "import pandas as pd\n",
        "import numpy as np\n",
        "import json\n",
        "import datetime\n",
        "import os\n",
        "from urllib.request import urlopen, quote\n",
        "\n",
        "os.chdir(\"/content/gdrive/My Drive/Colab Notebooks/traffic_data_aggregation\")\n",
        "%cd data\n",
        "\n",
        "def get_response(url):\n",
        "  req = urlopen(url)\n",
        "  res = req.read().decode()\n",
        "  temp = json.loads(res)\n",
        "  return temp\n",
        "\n",
        "\n",
        "def get_key(file):\n",
        "  with open(file, \"r\") as f:\n",
        "    return f.read()\n",
        "\n",
        "\n",
        "def get_tomtom_all(file1, file2, key):\n",
        "  with open(file1, \"r\") as f1:\n",
        "    with open(file2, \"w\") as f2:\n",
        "      all_lines = pd.read_csv(f1)\n",
        "      for line in all_lines.values:\n",
        "        lat = line[7]\n",
        "        lon = line[8]\n",
        "        url = \"https://api.tomtom.com/traffic/services/4/flowSegmentData/absolute/10/json?point=\" + \\\n",
        "        str(lat) + \"%2C\" + str(lon) + \"&unit=KMPH&key=\" + key\n",
        "        # print(url)\n",
        "\n",
        "        # print(get_response(url))\n",
        "        spd = get_response(url)[\"flowSegmentData\"][\"currentSpeed\"]\n",
        "        spd_ff = get_response(url)[\"flowSegmentData\"][\"freeFlowSpeed\"] # free flow speed\n",
        "        tra_time = get_response(url)[\"flowSegmentData\"][\"currentTravelTime\"]\n",
        "        tra_time_ff = get_response(url)[\"flowSegmentData\"][\"freeFlowTravelTime\"] # free flow travel time\n",
        "        con = get_response(url)[\"flowSegmentData\"][\"confidence\"]\n",
        "        clo = get_response(url)[\"flowSegmentData\"][\"roadClosure\"]\n",
        "\n",
        "        str_temp = [for i in line i + \",\"] + spd + \",\" + spd_ff + \",\" + tra_time + \",\" + \\\n",
        "        tra_time_ff + \",\" + con + \",\" + clo + \"\\n\"\n",
        "        out.write(str_temp)\n",
        "\n",
        "\n",
        "file_key = \"key.txt\"\n",
        "file_pts = \"tomtom_spl_pts.csv\"\n",
        "file_output = \"tomtom_\" + str(datetime.datetime.now())\n",
        "key = get_key(file_key)\n",
        "get_tomtom_all(file_pts, file_output, key)\n"
      ],
      "execution_count": 21,
      "outputs": [
        {
          "output_type": "error",
          "ename": "SyntaxError",
          "evalue": "ignored",
          "traceback": [
            "\u001b[0;36m  File \u001b[0;32m\"<ipython-input-22-5d1edb620028>\"\u001b[0;36m, line \u001b[0;32m41\u001b[0m\n\u001b[0;31m    str_temp = [for i in line i + \",\"] + spd + \",\" + spd_ff + \",\" + tra_time + \",\" +         tra_time_ff + \",\" + con + \",\" + clo + \"\\n\"\u001b[0m\n\u001b[0m                  ^\u001b[0m\n\u001b[0;31mSyntaxError\u001b[0m\u001b[0;31m:\u001b[0m invalid syntax\n"
          ]
        }
      ]
    }
  ]
}