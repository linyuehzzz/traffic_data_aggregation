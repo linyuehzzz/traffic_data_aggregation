{
  "nbformat": 4,
  "nbformat_minor": 0,
  "metadata": {
    "colab": {
      "name": "data_agg.ipynb",
      "provenance": [],
      "collapsed_sections": [],
      "authorship_tag": "ABX9TyM/6K43yYisWBCnBhq/qPbK",
      "include_colab_link": true
    },
    "kernelspec": {
      "name": "python3",
      "display_name": "Python 3"
    }
  },
  "cells": [
    {
      "cell_type": "markdown",
      "metadata": {
        "id": "view-in-github",
        "colab_type": "text"
      },
      "source": [
        "<a href=\"https://colab.research.google.com/github/linyuehzzz/traffic_data_aggregation/blob/master/data_agg.ipynb\" target=\"_parent\"><img src=\"https://colab.research.google.com/assets/colab-badge.svg\" alt=\"Open In Colab\"/></a>"
      ]
    },
    {
      "cell_type": "markdown",
      "metadata": {
        "id": "nJhmttA_QK4x",
        "colab_type": "text"
      },
      "source": [
        "**Mount on Google Drive**"
      ]
    },
    {
      "cell_type": "code",
      "metadata": {
        "id": "L3JjHQBfPbKs",
        "colab_type": "code",
        "colab": {
          "base_uri": "https://localhost:8080/",
          "height": 124
        },
        "outputId": "2e7b6715-2d85-4091-f095-c53576a86334"
      },
      "source": [
        "from google.colab import drive\n",
        "drive.mount('/content/gdrive')"
      ],
      "execution_count": 1,
      "outputs": [
        {
          "output_type": "stream",
          "text": [
            "Go to this URL in a browser: https://accounts.google.com/o/oauth2/auth?client_id=947318989803-6bn6qk8qdgf4n4g3pfee6491hc0brc4i.apps.googleusercontent.com&redirect_uri=urn%3aietf%3awg%3aoauth%3a2.0%3aoob&response_type=code&scope=email%20https%3a%2f%2fwww.googleapis.com%2fauth%2fdocs.test%20https%3a%2f%2fwww.googleapis.com%2fauth%2fdrive%20https%3a%2f%2fwww.googleapis.com%2fauth%2fdrive.photos.readonly%20https%3a%2f%2fwww.googleapis.com%2fauth%2fpeopleapi.readonly\n",
            "\n",
            "Enter your authorization code:\n",
            "··········\n",
            "Mounted at /content/gdrive\n"
          ],
          "name": "stdout"
        }
      ]
    },
    {
      "cell_type": "markdown",
      "metadata": {
        "id": "Ii3yxWPxWh3q",
        "colab_type": "text"
      },
      "source": [
        "**Add file path**"
      ]
    },
    {
      "cell_type": "code",
      "metadata": {
        "id": "nqmv_eAlWbGl",
        "colab_type": "code",
        "colab": {
          "base_uri": "https://localhost:8080/",
          "height": 35
        },
        "outputId": "3292f157-50c4-45f3-c5f0-56db41e09ff6"
      },
      "source": [
        "import os\n",
        "os.chdir(\"/content/gdrive/My Drive/Colab Notebooks/traffic_data_aggregation\")\n",
        "!ls"
      ],
      "execution_count": 6,
      "outputs": [
        {
          "output_type": "stream",
          "text": [
            "data  data_agg.ipynb\n"
          ],
          "name": "stdout"
        }
      ]
    },
    {
      "cell_type": "markdown",
      "metadata": {
        "id": "IK9Bva3VU4sY",
        "colab_type": "text"
      },
      "source": [
        "**Prepare TomTom data**"
      ]
    },
    {
      "cell_type": "code",
      "metadata": {
        "id": "TfWYVUpfVBaI",
        "colab_type": "code",
        "colab": {
          "base_uri": "https://localhost:8080/",
          "height": 69
        },
        "outputId": "9141ea39-d38f-4578-e5e0-bdf7df3efef0"
      },
      "source": [
        "%cd data\n",
        "import csv\n",
        "\n",
        "def get_response(url):\n",
        "  req = urlopen(url)\n",
        "  res = req.read().decode()\n",
        "  temp = json.loads(res)\n",
        "  return temp\n",
        "\n",
        "\n",
        "def get_key(file):\n",
        "  with open(file, \"r\") as f:\n",
        "    return f.read()\n",
        "\n",
        "\n",
        "def get_tomtom_all(file, key):\n",
        "  with open(file, \"r\") as f:\n",
        "    all_lines = csv.DictReader(f)\n",
        "    for line in all_lines:\n",
        "      lat = line['lat']\n",
        "      lon = line['lon']\n",
        "      url = \"https://api.tomtom.com/traffic/services/4/flowSegmentData/absolute/10/xml?point=\" + \\\n",
        "      lat + \"%2C\" + lon + \"&unit=KMPH&key=\" + key\n",
        "\n",
        "      speed = get_response(url)[\"currentSpeed\"]\n",
        "      speed_ff = get_response(url)[\"freeFlowSpeed\"] # free flow speed\n",
        "      travel_time = get_response(url)[\"currentTravelTime\"]\n",
        "      travel_time_ff = get_response(url)[\"currentTravelTime\"]\n",
        "\n",
        "\n",
        "file_key = \"key.txt\"\n",
        "key = get_key(file_key)\n",
        "print(key)\n"
      ],
      "execution_count": 5,
      "outputs": [
        {
          "output_type": "stream",
          "text": [
            "[Errno 2] No such file or directory: 'data'\n",
            "/content/gdrive/My Drive/Colab Notebooks/traffic_data_aggregation/data\n",
            "Tt3shrV6AERrnZz1ejpaYnXKOCsorPVk\n"
          ],
          "name": "stdout"
        }
      ]
    }
  ]
}