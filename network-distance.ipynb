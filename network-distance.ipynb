{
 "cells": [
  {
   "cell_type": "markdown",
   "metadata": {},
   "source": [
    "# Traffic data aggregation using network distance metrics and cokriging\n",
    "Final project for GEOG 8102  \n",
    "Yue Lin (lin.3326 at osu.edu)  \n",
    "Created: 4/14/2020"
   ]
  },
  {
   "cell_type": "markdown",
   "metadata": {},
   "source": [
    "## Mapping points to non-Euclidean space"
   ]
  },
  {
   "cell_type": "markdown",
   "metadata": {},
   "source": [
    "Read graph data"
   ]
  },
  {
   "cell_type": "code",
   "execution_count": 22,
   "metadata": {},
   "outputs": [
    {
     "name": "stdout",
     "output_type": "stream",
     "text": [
      "[[1, 1, 0.0], [1, 220, 3145.43243], [1, 290, 3189.500113], [1, 221, 6100.009007], [1, 328, 10813.73763]]\n"
     ]
    }
   ],
   "source": [
    "import csv\n",
    "with open('d04_tomtom_od.csv', newline='') as csvfile:\n",
    "    alllines = csv.reader(csvfile)\n",
    "    graph = []\n",
    "    for line in alllines:\n",
    "        item = []\n",
    "        item.append(int(line[2]))\n",
    "        item.append(int(line[3]))\n",
    "        item.append(float(line[5]))\n",
    "        graph.append(item)\n",
    "    print(graph[:5])"
   ]
  },
  {
   "cell_type": "markdown",
   "metadata": {},
   "source": [
    "Costruct distance matrix"
   ]
  },
  {
   "cell_type": "raw",
   "metadata": {},
   "source": [
    "## number of nodes\n",
    "n = max([g[1] for g in graph]) + 1\n",
    "\n",
    "## distance matrix\n",
    "INF = float('Inf')\n",
    "distance_matrix = [ [INF] * n for i in range(n)]\n",
    "for g in graph:\n",
    "    i = g[0]\n",
    "    j = g[1]\n",
    "    d = g[2]\n",
    "    distance_matrix[i][j] = d\n",
    "    distance_matrix[j][i] = d\n",
    "print(\"distance matrix:\", distance_matrix)"
   ]
  },
  {
   "cell_type": "code",
   "execution_count": null,
   "metadata": {},
   "outputs": [],
   "source": [
    "b_matrix = [ [INF] * n for i in range(n)]\n",
    "for i in n:\n",
    "    for j in n:\n",
    "        d = distance_matrix[i][j]\n",
    "        b[i][j] = 1/2 * (-d*d + 1/n)"
   ]
  }
 ],
 "metadata": {
  "kernelspec": {
   "display_name": "Python 3",
   "language": "python",
   "name": "python3"
  },
  "language_info": {
   "codemirror_mode": {
    "name": "ipython",
    "version": 3
   },
   "file_extension": ".py",
   "mimetype": "text/x-python",
   "name": "python",
   "nbconvert_exporter": "python",
   "pygments_lexer": "ipython3",
   "version": "3.7.5"
  }
 },
 "nbformat": 4,
 "nbformat_minor": 2
}
