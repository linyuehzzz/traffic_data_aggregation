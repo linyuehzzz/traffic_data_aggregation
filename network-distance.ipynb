{
 "cells": [
  {
   "cell_type": "markdown",
   "metadata": {},
   "source": [
    "# Traffic data aggregation using network distance metrics and cokriging\n",
    "Final project for GEOG 8102  \n",
    "Yue Lin (lin.3326 at osu.edu)  \n",
    "Created: 4/14/2020"
   ]
  },
  {
   "cell_type": "markdown",
   "metadata": {},
   "source": [
    "## Mapping points to non-Euclidean space"
   ]
  },
  {
   "cell_type": "markdown",
   "metadata": {},
   "source": [
    "Read graph data"
   ]
  },
  {
   "cell_type": "code",
   "execution_count": 15,
   "metadata": {},
   "outputs": [
    {
     "name": "stdout",
     "output_type": "stream",
     "text": [
      "[[1, 1, 0.0], [1, 220, 3145.43243], [1, 290, 3189.500113], [1, 221, 6100.009007], [1, 328, 10813.73763]]\n"
     ]
    }
   ],
   "source": [
    "import csv\n",
    "with open('d04_tomtom_od.csv', newline='') as csvfile:\n",
    "    alllines = csv.reader(csvfile)\n",
    "    graph = []\n",
    "    for line in alllines:\n",
    "        item = []\n",
    "        item.append(int(line[2]))\n",
    "        item.append(int(line[3]))\n",
    "        item.append(float(line[5]))\n",
    "        graph.append(item)\n",
    "    print(graph[:5])"
   ]
  },
  {
   "cell_type": "markdown",
   "metadata": {},
   "source": [
    "Costruct distance matrix"
   ]
  },
  {
   "cell_type": "code",
   "execution_count": 16,
   "metadata": {},
   "outputs": [],
   "source": [
    "## number of nodes\n",
    "n = max([g[1] for g in graph])\n",
    "\n",
    "## distance matrix\n",
    "INF = float(0)\n",
    "distance_matrix = [ [INF] * n for i in range(n)]\n",
    "for g in graph:\n",
    "    i = g[0] - 1\n",
    "    j = g[1] - 1\n",
    "    d = g[2]\n",
    "    distance_matrix[i][j] = d\n",
    "    distance_matrix[j][i] = d\n",
    "# print(\"distance matrix:\", distance_matrix[0])"
   ]
  },
  {
   "cell_type": "markdown",
   "metadata": {},
   "source": [
    "Construct b matrix"
   ]
  },
  {
   "cell_type": "code",
   "execution_count": 17,
   "metadata": {},
   "outputs": [],
   "source": [
    "# extract a column\n",
    "def column(matrix, i):\n",
    "    return [row[i] for row in matrix]\n",
    "\n",
    "\n",
    "b_matrix = [ [INF] * n for i in range(n)]\n",
    "\n",
    "d_sum = 0\n",
    "for i in range(n):\n",
    "    for j in range(n):\n",
    "        d = distance_matrix[i][j]\n",
    "        d_sum = d_sum + d*d\n",
    "       \n",
    "for i in range(n):\n",
    "    for j in range(n):\n",
    "        d = distance_matrix[i][j]\n",
    "        \n",
    "        d_x = distance_matrix[i]\n",
    "        d_x_sum = 0\n",
    "        for k in range(n):\n",
    "            d = distance_matrix[i][k]\n",
    "            d_x_sum = d_x_sum + d*d\n",
    "\n",
    "        d_y = column(distance_matrix, j)\n",
    "        d_y_sum = 0\n",
    "        for k in range(n):\n",
    "            d = distance_matrix[k][j]\n",
    "            d_y_sum = d_y_sum + d*d\n",
    "        \n",
    "        d = distance_matrix[i][j]\n",
    "        \n",
    "        b_matrix[i][j] = 1/2 * (-d*d + 1/n * d_x_sum + 1/n * d_y_sum - 1/(n*n) * d_sum)\n",
    "\n",
    "# print(\"b matrix:\", b_matrix[0])"
   ]
  },
  {
   "cell_type": "markdown",
   "metadata": {},
   "source": [
    "Get the new point set"
   ]
  },
  {
   "cell_type": "code",
   "execution_count": 28,
   "metadata": {},
   "outputs": [
    {
     "name": "stdout",
     "output_type": "stream",
     "text": [
      "(2, 2)\n",
      "(2, 418)\n",
      "float64\n",
      "36736.91777467165\n"
     ]
    }
   ],
   "source": [
    "import numpy as np\n",
    "import scipy.linalg as la\n",
    "\n",
    "B = np.array(b_matrix)\n",
    "eigvals, eigvecs = la.eig(B)\n",
    "sorted_eigvals = sorted(eigvals, reverse = True)\n",
    "\n",
    "sorted_eigvals = np.array(sorted_eigvals[:2])\n",
    "V = np.diag(sorted_eigvals**(0.5))\n",
    "print(V.shape)\n",
    "\n",
    "eigvals = eigvals.tolist()\n",
    "index1 = eigvals.index(sorted_eigvals[0])\n",
    "Q1 = np.array([eigvecs[index1]])\n",
    "index2 = eigvals.index(sorted_eigvals[1])\n",
    "Q2 = np.array([eigvecs[index2]])\n",
    "Q = np.concatenate((Q1, Q2), axis=0)\n",
    "print(Q.shape)\n",
    "\n",
    "S_new = np.dot(np.transpose(Q), V)\n",
    "S_new = S_new.real\n",
    "print(S_new.dtype)\n",
    "print(S_new[0][0])"
   ]
  },
  {
   "cell_type": "markdown",
   "metadata": {},
   "source": [
    "Write new coordinates to file"
   ]
  },
  {
   "cell_type": "code",
   "execution_count": 30,
   "metadata": {},
   "outputs": [],
   "source": [
    "import csv\n",
    "\n",
    "with open('d04_tomtom.csv', 'r') as read_obj, \\\n",
    "        open('d04_tomtom_1.csv', 'w', newline='') as write_obj:\n",
    "    csv_reader = csv.reader(read_obj)\n",
    "    csv_writer = csv.writer(write_obj)\n",
    "    \n",
    "    i = 0\n",
    "    for row in csv_reader:\n",
    "        row.append(S_new[i][0])\n",
    "        row.append(S_new[i][1])\n",
    "        i = i + 1\n",
    "        \n",
    "        csv_writer.writerow(row)"
   ]
  },
  {
   "cell_type": "code",
   "execution_count": null,
   "metadata": {},
   "outputs": [],
   "source": []
  }
 ],
 "metadata": {
  "kernelspec": {
   "display_name": "Python 3",
   "language": "python",
   "name": "python3"
  },
  "language_info": {
   "codemirror_mode": {
    "name": "ipython",
    "version": 3
   },
   "file_extension": ".py",
   "mimetype": "text/x-python",
   "name": "python",
   "nbconvert_exporter": "python",
   "pygments_lexer": "ipython3",
   "version": "3.7.5"
  }
 },
 "nbformat": 4,
 "nbformat_minor": 2
}
